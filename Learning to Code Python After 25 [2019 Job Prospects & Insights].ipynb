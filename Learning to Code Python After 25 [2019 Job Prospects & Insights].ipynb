{
 "cells": [
  {
   "cell_type": "markdown",
   "metadata": {},
   "source": [
    "# 2019 Insights on Learning to Code Python after 25"
   ]
  },
  {
   "cell_type": "markdown",
   "metadata": {},
   "source": [
    "StackOverflow just released their annual survey and it goes over a lot of information in which nearly 90,000 developers told them how they learn and level up, which tools they’re using, and what they want. \n",
    "\n",
    "I will analyze data based on US-based individuals that have started to learn how to code Python after the age of 25 and go over factors such as career/job satisfaction and compensation. To download the dataset yourself go to: \n",
    "https://insights.stackoverflow.com/survey/2019"
   ]
  },
  {
   "cell_type": "markdown",
   "metadata": {},
   "source": [
    "# Setting Up the Data"
   ]
  },
  {
   "cell_type": "code",
   "execution_count": 1,
   "metadata": {},
   "outputs": [
    {
     "data": {
      "text/html": [
       "<div>\n",
       "<style scoped>\n",
       "    .dataframe tbody tr th:only-of-type {\n",
       "        vertical-align: middle;\n",
       "    }\n",
       "\n",
       "    .dataframe tbody tr th {\n",
       "        vertical-align: top;\n",
       "    }\n",
       "\n",
       "    .dataframe thead th {\n",
       "        text-align: right;\n",
       "    }\n",
       "</style>\n",
       "<table border=\"1\" class=\"dataframe\">\n",
       "  <thead>\n",
       "    <tr style=\"text-align: right;\">\n",
       "      <th></th>\n",
       "      <th>Respondent</th>\n",
       "      <th>MainBranch</th>\n",
       "      <th>Hobbyist</th>\n",
       "      <th>OpenSourcer</th>\n",
       "      <th>OpenSource</th>\n",
       "      <th>Employment</th>\n",
       "      <th>Country</th>\n",
       "      <th>Student</th>\n",
       "      <th>EdLevel</th>\n",
       "      <th>UndergradMajor</th>\n",
       "      <th>...</th>\n",
       "      <th>WelcomeChange</th>\n",
       "      <th>SONewContent</th>\n",
       "      <th>Age</th>\n",
       "      <th>Gender</th>\n",
       "      <th>Trans</th>\n",
       "      <th>Sexuality</th>\n",
       "      <th>Ethnicity</th>\n",
       "      <th>Dependents</th>\n",
       "      <th>SurveyLength</th>\n",
       "      <th>SurveyEase</th>\n",
       "    </tr>\n",
       "  </thead>\n",
       "  <tbody>\n",
       "    <tr>\n",
       "      <th>0</th>\n",
       "      <td>1</td>\n",
       "      <td>I am a student who is learning to code</td>\n",
       "      <td>Yes</td>\n",
       "      <td>Never</td>\n",
       "      <td>The quality of OSS and closed source software ...</td>\n",
       "      <td>Not employed, and not looking for work</td>\n",
       "      <td>United Kingdom</td>\n",
       "      <td>No</td>\n",
       "      <td>Primary/elementary school</td>\n",
       "      <td>NaN</td>\n",
       "      <td>...</td>\n",
       "      <td>Just as welcome now as I felt last year</td>\n",
       "      <td>Tech articles written by other developers;Indu...</td>\n",
       "      <td>14.0</td>\n",
       "      <td>Man</td>\n",
       "      <td>No</td>\n",
       "      <td>Straight / Heterosexual</td>\n",
       "      <td>NaN</td>\n",
       "      <td>No</td>\n",
       "      <td>Appropriate in length</td>\n",
       "      <td>Neither easy nor difficult</td>\n",
       "    </tr>\n",
       "    <tr>\n",
       "      <th>1</th>\n",
       "      <td>2</td>\n",
       "      <td>I am a student who is learning to code</td>\n",
       "      <td>No</td>\n",
       "      <td>Less than once per year</td>\n",
       "      <td>The quality of OSS and closed source software ...</td>\n",
       "      <td>Not employed, but looking for work</td>\n",
       "      <td>Bosnia and Herzegovina</td>\n",
       "      <td>Yes, full-time</td>\n",
       "      <td>Secondary school (e.g. American high school, G...</td>\n",
       "      <td>NaN</td>\n",
       "      <td>...</td>\n",
       "      <td>Just as welcome now as I felt last year</td>\n",
       "      <td>Tech articles written by other developers;Indu...</td>\n",
       "      <td>19.0</td>\n",
       "      <td>Man</td>\n",
       "      <td>No</td>\n",
       "      <td>Straight / Heterosexual</td>\n",
       "      <td>NaN</td>\n",
       "      <td>No</td>\n",
       "      <td>Appropriate in length</td>\n",
       "      <td>Neither easy nor difficult</td>\n",
       "    </tr>\n",
       "    <tr>\n",
       "      <th>2</th>\n",
       "      <td>3</td>\n",
       "      <td>I am not primarily a developer, but I write co...</td>\n",
       "      <td>Yes</td>\n",
       "      <td>Never</td>\n",
       "      <td>The quality of OSS and closed source software ...</td>\n",
       "      <td>Employed full-time</td>\n",
       "      <td>Thailand</td>\n",
       "      <td>No</td>\n",
       "      <td>Bachelor’s degree (BA, BS, B.Eng., etc.)</td>\n",
       "      <td>Web development or web design</td>\n",
       "      <td>...</td>\n",
       "      <td>Just as welcome now as I felt last year</td>\n",
       "      <td>Tech meetups or events in your area;Courses on...</td>\n",
       "      <td>28.0</td>\n",
       "      <td>Man</td>\n",
       "      <td>No</td>\n",
       "      <td>Straight / Heterosexual</td>\n",
       "      <td>NaN</td>\n",
       "      <td>Yes</td>\n",
       "      <td>Appropriate in length</td>\n",
       "      <td>Neither easy nor difficult</td>\n",
       "    </tr>\n",
       "  </tbody>\n",
       "</table>\n",
       "<p>3 rows × 85 columns</p>\n",
       "</div>"
      ],
      "text/plain": [
       "   Respondent                                         MainBranch Hobbyist  \\\n",
       "0           1             I am a student who is learning to code      Yes   \n",
       "1           2             I am a student who is learning to code       No   \n",
       "2           3  I am not primarily a developer, but I write co...      Yes   \n",
       "\n",
       "               OpenSourcer                                         OpenSource  \\\n",
       "0                    Never  The quality of OSS and closed source software ...   \n",
       "1  Less than once per year  The quality of OSS and closed source software ...   \n",
       "2                    Never  The quality of OSS and closed source software ...   \n",
       "\n",
       "                               Employment                 Country  \\\n",
       "0  Not employed, and not looking for work          United Kingdom   \n",
       "1      Not employed, but looking for work  Bosnia and Herzegovina   \n",
       "2                      Employed full-time                Thailand   \n",
       "\n",
       "          Student                                            EdLevel  \\\n",
       "0              No                          Primary/elementary school   \n",
       "1  Yes, full-time  Secondary school (e.g. American high school, G...   \n",
       "2              No           Bachelor’s degree (BA, BS, B.Eng., etc.)   \n",
       "\n",
       "                  UndergradMajor  ...  \\\n",
       "0                            NaN  ...   \n",
       "1                            NaN  ...   \n",
       "2  Web development or web design  ...   \n",
       "\n",
       "                             WelcomeChange  \\\n",
       "0  Just as welcome now as I felt last year   \n",
       "1  Just as welcome now as I felt last year   \n",
       "2  Just as welcome now as I felt last year   \n",
       "\n",
       "                                        SONewContent   Age Gender Trans  \\\n",
       "0  Tech articles written by other developers;Indu...  14.0    Man    No   \n",
       "1  Tech articles written by other developers;Indu...  19.0    Man    No   \n",
       "2  Tech meetups or events in your area;Courses on...  28.0    Man    No   \n",
       "\n",
       "                 Sexuality Ethnicity Dependents           SurveyLength  \\\n",
       "0  Straight / Heterosexual       NaN         No  Appropriate in length   \n",
       "1  Straight / Heterosexual       NaN         No  Appropriate in length   \n",
       "2  Straight / Heterosexual       NaN        Yes  Appropriate in length   \n",
       "\n",
       "                   SurveyEase  \n",
       "0  Neither easy nor difficult  \n",
       "1  Neither easy nor difficult  \n",
       "2  Neither easy nor difficult  \n",
       "\n",
       "[3 rows x 85 columns]"
      ]
     },
     "execution_count": 1,
     "metadata": {},
     "output_type": "execute_result"
    }
   ],
   "source": [
    "import pandas as pd\n",
    "survey = pd.read_csv('survey_results_public.csv')\n",
    "survey.head(3)"
   ]
  },
  {
   "cell_type": "code",
   "execution_count": 50,
   "metadata": {},
   "outputs": [
    {
     "data": {
      "text/plain": [
       "(88883, 86)"
      ]
     },
     "execution_count": 50,
     "metadata": {},
     "output_type": "execute_result"
    }
   ],
   "source": [
    "#Add Python Column\n",
    "survey['Python'] = survey[\"LanguageWorkedWith\"].str.contains('Python')\n",
    "survey.shape"
   ]
  },
  {
   "cell_type": "code",
   "execution_count": 3,
   "metadata": {},
   "outputs": [
    {
     "data": {
      "text/plain": [
       "Index(['Respondent', 'MainBranch', 'Hobbyist', 'OpenSourcer', 'OpenSource',\n",
       "       'Employment', 'Country', 'Student', 'EdLevel', 'UndergradMajor',\n",
       "       'EduOther', 'OrgSize', 'DevType', 'YearsCode', 'Age1stCode',\n",
       "       'YearsCodePro', 'CareerSat', 'JobSat', 'MgrIdiot', 'MgrMoney',\n",
       "       'MgrWant', 'JobSeek', 'LastHireDate', 'LastInt', 'FizzBuzz',\n",
       "       'JobFactors', 'ResumeUpdate', 'CurrencySymbol', 'CurrencyDesc',\n",
       "       'CompTotal', 'CompFreq', 'ConvertedComp', 'WorkWeekHrs', 'WorkPlan',\n",
       "       'WorkChallenge', 'WorkRemote', 'WorkLoc', 'ImpSyn', 'CodeRev',\n",
       "       'CodeRevHrs', 'UnitTests', 'PurchaseHow', 'PurchaseWhat',\n",
       "       'LanguageWorkedWith', 'LanguageDesireNextYear', 'DatabaseWorkedWith',\n",
       "       'DatabaseDesireNextYear', 'PlatformWorkedWith',\n",
       "       'PlatformDesireNextYear', 'WebFrameWorkedWith',\n",
       "       'WebFrameDesireNextYear', 'MiscTechWorkedWith',\n",
       "       'MiscTechDesireNextYear', 'DevEnviron', 'OpSys', 'Containers',\n",
       "       'BlockchainOrg', 'BlockchainIs', 'BetterLife', 'ITperson', 'OffOn',\n",
       "       'SocialMedia', 'Extraversion', 'ScreenName', 'SOVisit1st',\n",
       "       'SOVisitFreq', 'SOVisitTo', 'SOFindAnswer', 'SOTimeSaved',\n",
       "       'SOHowMuchTime', 'SOAccount', 'SOPartFreq', 'SOJobs', 'EntTeams',\n",
       "       'SOComm', 'WelcomeChange', 'SONewContent', 'Age', 'Gender', 'Trans',\n",
       "       'Sexuality', 'Ethnicity', 'Dependents', 'SurveyLength', 'SurveyEase',\n",
       "       'Python'],\n",
       "      dtype='object')"
      ]
     },
     "execution_count": 3,
     "metadata": {},
     "output_type": "execute_result"
    }
   ],
   "source": [
    "#Identify the columns that will be the most helpful for our analysis\n",
    "survey.columns"
   ]
  },
  {
   "cell_type": "code",
   "execution_count": 4,
   "metadata": {},
   "outputs": [],
   "source": [
    "interest = ['Country','Employment','Age1stCode','JobSat','UndergradMajor','CareerSat','JobSeek','Age','CompTotal','Python']\n",
    "\n",
    "survey_strip = survey[interest]"
   ]
  },
  {
   "cell_type": "code",
   "execution_count": 5,
   "metadata": {},
   "outputs": [
    {
     "data": {
      "text/plain": [
       "Country             132\n",
       "Employment         1702\n",
       "Age1stCode         1249\n",
       "JobSat            17895\n",
       "UndergradMajor    13269\n",
       "CareerSat         16036\n",
       "JobSeek            8328\n",
       "Age                9673\n",
       "CompTotal         32938\n",
       "Python             1314\n",
       "dtype: int64"
      ]
     },
     "execution_count": 5,
     "metadata": {},
     "output_type": "execute_result"
    }
   ],
   "source": [
    "survey_strip.isnull().sum()"
   ]
  },
  {
   "cell_type": "code",
   "execution_count": 6,
   "metadata": {},
   "outputs": [
    {
     "data": {
      "text/html": [
       "<div>\n",
       "<style scoped>\n",
       "    .dataframe tbody tr th:only-of-type {\n",
       "        vertical-align: middle;\n",
       "    }\n",
       "\n",
       "    .dataframe tbody tr th {\n",
       "        vertical-align: top;\n",
       "    }\n",
       "\n",
       "    .dataframe thead th {\n",
       "        text-align: right;\n",
       "    }\n",
       "</style>\n",
       "<table border=\"1\" class=\"dataframe\">\n",
       "  <thead>\n",
       "    <tr style=\"text-align: right;\">\n",
       "      <th></th>\n",
       "      <th>Country</th>\n",
       "      <th>Employment</th>\n",
       "      <th>Age1stCode</th>\n",
       "      <th>JobSat</th>\n",
       "      <th>UndergradMajor</th>\n",
       "      <th>CareerSat</th>\n",
       "      <th>JobSeek</th>\n",
       "      <th>Age</th>\n",
       "      <th>CompTotal</th>\n",
       "      <th>Python</th>\n",
       "    </tr>\n",
       "  </thead>\n",
       "  <tbody>\n",
       "    <tr>\n",
       "      <th>0</th>\n",
       "      <td>United Kingdom</td>\n",
       "      <td>Not employed, and not looking for work</td>\n",
       "      <td>10</td>\n",
       "      <td>NaN</td>\n",
       "      <td>NaN</td>\n",
       "      <td>NaN</td>\n",
       "      <td>NaN</td>\n",
       "      <td>14.0</td>\n",
       "      <td>NaN</td>\n",
       "      <td>True</td>\n",
       "    </tr>\n",
       "    <tr>\n",
       "      <th>1</th>\n",
       "      <td>Bosnia and Herzegovina</td>\n",
       "      <td>Not employed, but looking for work</td>\n",
       "      <td>17</td>\n",
       "      <td>NaN</td>\n",
       "      <td>NaN</td>\n",
       "      <td>NaN</td>\n",
       "      <td>I am actively looking for a job</td>\n",
       "      <td>19.0</td>\n",
       "      <td>NaN</td>\n",
       "      <td>True</td>\n",
       "    </tr>\n",
       "    <tr>\n",
       "      <th>2</th>\n",
       "      <td>Thailand</td>\n",
       "      <td>Employed full-time</td>\n",
       "      <td>22</td>\n",
       "      <td>Slightly satisfied</td>\n",
       "      <td>Web development or web design</td>\n",
       "      <td>Slightly satisfied</td>\n",
       "      <td>I’m not actively looking, but I am open to new...</td>\n",
       "      <td>28.0</td>\n",
       "      <td>23000.0</td>\n",
       "      <td>False</td>\n",
       "    </tr>\n",
       "    <tr>\n",
       "      <th>3</th>\n",
       "      <td>United States</td>\n",
       "      <td>Employed full-time</td>\n",
       "      <td>16</td>\n",
       "      <td>Slightly satisfied</td>\n",
       "      <td>Computer science, computer engineering, or sof...</td>\n",
       "      <td>Very satisfied</td>\n",
       "      <td>I am not interested in new job opportunities</td>\n",
       "      <td>22.0</td>\n",
       "      <td>61000.0</td>\n",
       "      <td>True</td>\n",
       "    </tr>\n",
       "    <tr>\n",
       "      <th>4</th>\n",
       "      <td>Ukraine</td>\n",
       "      <td>Employed full-time</td>\n",
       "      <td>14</td>\n",
       "      <td>Slightly dissatisfied</td>\n",
       "      <td>Computer science, computer engineering, or sof...</td>\n",
       "      <td>Very dissatisfied</td>\n",
       "      <td>I am not interested in new job opportunities</td>\n",
       "      <td>30.0</td>\n",
       "      <td>NaN</td>\n",
       "      <td>True</td>\n",
       "    </tr>\n",
       "  </tbody>\n",
       "</table>\n",
       "</div>"
      ],
      "text/plain": [
       "                  Country                              Employment Age1stCode  \\\n",
       "0          United Kingdom  Not employed, and not looking for work         10   \n",
       "1  Bosnia and Herzegovina      Not employed, but looking for work         17   \n",
       "2                Thailand                      Employed full-time         22   \n",
       "3           United States                      Employed full-time         16   \n",
       "4                 Ukraine                      Employed full-time         14   \n",
       "\n",
       "                  JobSat                                     UndergradMajor  \\\n",
       "0                    NaN                                                NaN   \n",
       "1                    NaN                                                NaN   \n",
       "2     Slightly satisfied                      Web development or web design   \n",
       "3     Slightly satisfied  Computer science, computer engineering, or sof...   \n",
       "4  Slightly dissatisfied  Computer science, computer engineering, or sof...   \n",
       "\n",
       "            CareerSat                                            JobSeek  \\\n",
       "0                 NaN                                                NaN   \n",
       "1                 NaN                    I am actively looking for a job   \n",
       "2  Slightly satisfied  I’m not actively looking, but I am open to new...   \n",
       "3      Very satisfied       I am not interested in new job opportunities   \n",
       "4   Very dissatisfied       I am not interested in new job opportunities   \n",
       "\n",
       "    Age  CompTotal Python  \n",
       "0  14.0        NaN   True  \n",
       "1  19.0        NaN   True  \n",
       "2  28.0    23000.0  False  \n",
       "3  22.0    61000.0   True  \n",
       "4  30.0        NaN   True  "
      ]
     },
     "execution_count": 6,
     "metadata": {},
     "output_type": "execute_result"
    }
   ],
   "source": [
    "survey_strip.head()"
   ]
  },
  {
   "cell_type": "code",
   "execution_count": 7,
   "metadata": {},
   "outputs": [
    {
     "data": {
      "text/plain": [
       "Country               0\n",
       "Employment         1521\n",
       "Age1stCode            0\n",
       "JobSat            17195\n",
       "UndergradMajor    12709\n",
       "CareerSat         15516\n",
       "JobSeek            7976\n",
       "Age                8761\n",
       "CompTotal         31837\n",
       "Python              997\n",
       "dtype: int64"
      ]
     },
     "execution_count": 7,
     "metadata": {},
     "output_type": "execute_result"
    }
   ],
   "source": [
    "survey_strip = survey_strip.dropna(subset=['Age1stCode'])\n",
    "survey_strip.isnull().sum()"
   ]
  },
  {
   "cell_type": "code",
   "execution_count": 8,
   "metadata": {},
   "outputs": [
    {
     "data": {
      "text/plain": [
       "(87634, 10)"
      ]
     },
     "execution_count": 8,
     "metadata": {},
     "output_type": "execute_result"
    }
   ],
   "source": [
    "survey_strip.shape\n",
    "#1249 rows were removed"
   ]
  },
  {
   "cell_type": "markdown",
   "metadata": {},
   "source": [
    "Now we have some string values leftover in \"Age1stCode\" that we'll need to filter out in order for us to count this column as an integer. "
   ]
  },
  {
   "cell_type": "code",
   "execution_count": 9,
   "metadata": {},
   "outputs": [
    {
     "data": {
      "text/plain": [
       "15                      8681\n",
       "16                      8633\n",
       "14                      8452\n",
       "18                      7945\n",
       "12                      7735\n",
       "13                      6377\n",
       "17                      5915\n",
       "10                      5061\n",
       "19                      4561\n",
       "20                      3718\n",
       "11                      3515\n",
       "8                       2471\n",
       "21                      1940\n",
       "9                       1926\n",
       "22                      1710\n",
       "7                       1395\n",
       "23                      1054\n",
       "25                       914\n",
       "24                       842\n",
       "6                        828\n",
       "5                        521\n",
       "Younger than 5 years     520\n",
       "26                       491\n",
       "27                       417\n",
       "30                       384\n",
       "28                       346\n",
       "29                       242\n",
       "32                       139\n",
       "35                       134\n",
       "31                       130\n",
       "                        ... \n",
       "42                        20\n",
       "44                        18\n",
       "43                        18\n",
       "50                        16\n",
       "41                        16\n",
       "49                        10\n",
       "46                        10\n",
       "47                         8\n",
       "55                         7\n",
       "60                         5\n",
       "54                         4\n",
       "56                         4\n",
       "48                         4\n",
       "65                         3\n",
       "51                         3\n",
       "80                         2\n",
       "66                         2\n",
       "52                         2\n",
       "79                         2\n",
       "53                         2\n",
       "61                         2\n",
       "63                         1\n",
       "67                         1\n",
       "57                         1\n",
       "84                         1\n",
       "62                         1\n",
       "68                         1\n",
       "83                         1\n",
       "77                         1\n",
       "58                         1\n",
       "Name: Age1stCode, Length: 69, dtype: int64"
      ]
     },
     "execution_count": 9,
     "metadata": {},
     "output_type": "execute_result"
    }
   ],
   "source": [
    "survey_strip[\"Age1stCode\"].value_counts()"
   ]
  },
  {
   "cell_type": "code",
   "execution_count": 10,
   "metadata": {},
   "outputs": [
    {
     "data": {
      "text/plain": [
       "(87088, 10)"
      ]
     },
     "execution_count": 10,
     "metadata": {},
     "output_type": "execute_result"
    }
   ],
   "source": [
    "#Filter out values of people that first coded < 5 years old and > 85 years old as that data may not be very accurate anyway\n",
    "survey_filter_strip = survey_strip[survey_strip['Age1stCode'] != 'Older than 85']\n",
    "survey_filter_strip = survey_filter_strip[survey_filter_strip['Age1stCode'] != 'Younger than 5 years']\n",
    "survey_filter_strip['Age1stCode'] = survey_filter_strip['Age1stCode'].astype(int)\n",
    "survey_filter_strip.shape"
   ]
  },
  {
   "cell_type": "code",
   "execution_count": 11,
   "metadata": {},
   "outputs": [
    {
     "data": {
      "text/plain": [
       "(3808, 10)"
      ]
     },
     "execution_count": 11,
     "metadata": {},
     "output_type": "execute_result"
    }
   ],
   "source": [
    "#Now let's set up a filter for people that are over the age of 25\n",
    "survey_over_25 = survey_filter_strip[survey_filter_strip['Age1stCode'] >= 25]\n",
    "survey_over_25.shape"
   ]
  },
  {
   "cell_type": "markdown",
   "metadata": {},
   "source": [
    "We now have two tables to compare results: \n",
    "* Survey_over_25 \n",
    "* Survey_filter_strip. \n",
    "\n",
    "Roughly 4.3% of respondents have started coding after 25 years of age"
   ]
  },
  {
   "cell_type": "markdown",
   "metadata": {},
   "source": [
    "# Analyzing Job Satisfaction"
   ]
  },
  {
   "cell_type": "code",
   "execution_count": 12,
   "metadata": {},
   "outputs": [
    {
     "data": {
      "image/png": "[encoded data removed]",
      "text/plain": [
       "<Figure size 432x288 with 1 Axes>"
      ]
     },
     "metadata": {
      "needs_background": "light"
     },
     "output_type": "display_data"
    }
   ],
   "source": [
    "import matplotlib.pyplot as plt\n",
    "%matplotlib inline\n",
    "survey_filter_strip['JobSat'].value_counts(normalize=True).plot(kind=\"bar\", rot=30, title = \"Total List Job Satisfaction\", colormap=plt.cm.Accent)\n",
    "plt.show()"
   ]
  },
  {
   "cell_type": "code",
   "execution_count": 13,
   "metadata": {},
   "outputs": [
    {
     "data": {
      "text/plain": [
       "<matplotlib.axes._subplots.AxesSubplot at 0x187b8b70898>"
      ]
     },
     "execution_count": 13,
     "metadata": {},
     "output_type": "execute_result"
    },
    {
     "data": {
      "image/png": "[encoded data removed]",
      "text/plain": [
       "<Figure size 432x288 with 1 Axes>"
      ]
     },
     "metadata": {
      "needs_background": "light"
     },
     "output_type": "display_data"
    }
   ],
   "source": [
    "survey_over_25['JobSat'].value_counts(normalize=True).plot(kind=\"bar\", rot=30, title = \"Over 25 Job Satisfaction\")"
   ]
  },
  {
   "cell_type": "markdown",
   "metadata": {},
   "source": [
    "We can see that there aren't any notable differences when it comes to job satisfaction when comparing Over 25 first-time coders to the rest of the respondents."
   ]
  },
  {
   "cell_type": "markdown",
   "metadata": {},
   "source": [
    "# Analyzing Career Satisfaction"
   ]
  },
  {
   "cell_type": "code",
   "execution_count": 14,
   "metadata": {},
   "outputs": [
    {
     "data": {
      "image/png": "[encoded data removed]",
      "text/plain": [
       "<Figure size 432x288 with 1 Axes>"
      ]
     },
     "metadata": {
      "needs_background": "light"
     },
     "output_type": "display_data"
    }
   ],
   "source": [
    "survey_filter_strip['CareerSat'].value_counts(normalize=True).plot(kind=\"bar\", rot=30, title = \"Total List Career Satisfaction\", colormap=plt.cm.Accent)\n",
    "plt.show()"
   ]
  },
  {
   "cell_type": "code",
   "execution_count": 15,
   "metadata": {},
   "outputs": [
    {
     "data": {
      "text/plain": [
       "<matplotlib.axes._subplots.AxesSubplot at 0x187b8c71048>"
      ]
     },
     "execution_count": 15,
     "metadata": {},
     "output_type": "execute_result"
    },
    {
     "data": {
      "image/png": "[encoded data removed]",
      "text/plain": [
       "<Figure size 432x288 with 1 Axes>"
      ]
     },
     "metadata": {
      "needs_background": "light"
     },
     "output_type": "display_data"
    }
   ],
   "source": [
    "survey_over_25['CareerSat'].value_counts(normalize=True).plot(kind=\"bar\", rot=30, title = \"Over 25 Career Satisfaction\")"
   ]
  },
  {
   "cell_type": "code",
   "execution_count": 16,
   "metadata": {},
   "outputs": [
    {
     "data": {
      "text/plain": [
       "Very satisfied                        0.460508\n",
       "Slightly satisfied                    0.290197\n",
       "Slightly dissatisfied                 0.101199\n",
       "Neither satisfied nor dissatisfied    0.088858\n",
       "Very dissatisfied                     0.059238\n",
       "Name: CareerSat, dtype: float64"
      ]
     },
     "execution_count": 16,
     "metadata": {},
     "output_type": "execute_result"
    }
   ],
   "source": [
    "survey_over_25['CareerSat'].value_counts(normalize=True)"
   ]
  },
  {
   "cell_type": "code",
   "execution_count": 17,
   "metadata": {},
   "outputs": [
    {
     "data": {
      "text/plain": [
       "Very satisfied                        0.401491\n",
       "Slightly satisfied                    0.344079\n",
       "Slightly dissatisfied                 0.105071\n",
       "Neither satisfied nor dissatisfied    0.098649\n",
       "Very dissatisfied                     0.050711\n",
       "Name: CareerSat, dtype: float64"
      ]
     },
     "execution_count": 17,
     "metadata": {},
     "output_type": "execute_result"
    }
   ],
   "source": [
    "survey_filter_strip['CareerSat'].value_counts(normalize=True)"
   ]
  },
  {
   "cell_type": "markdown",
   "metadata": {},
   "source": [
    "There is a slight uptick in people that have coded after the age of 25 to be very satisfied with their careers. Next we'll want to look at their college education. "
   ]
  },
  {
   "cell_type": "markdown",
   "metadata": {},
   "source": [
    "# Education from People Over 25"
   ]
  },
  {
   "cell_type": "code",
   "execution_count": 18,
   "metadata": {},
   "outputs": [
    {
     "data": {
      "text/plain": [
       "Computer science, computer engineering, or software engineering          854\n",
       "A business discipline (ex. accounting, finance, marketing)               374\n",
       "A humanities discipline (ex. literature, history, philosophy)            313\n",
       "Another engineering discipline (ex. civil, electrical, mechanical)       294\n",
       "A social science (ex. anthropology, psychology, political science)       279\n",
       "A natural science (ex. biology, chemistry, physics)                      265\n",
       "Web development or web design                                            212\n",
       "Information systems, information technology, or system administration    196\n",
       "Fine arts or performing arts (ex. graphic design, music, studio art)     194\n",
       "Mathematics or statistics                                                113\n",
       "I never declared a major                                                  93\n",
       "A health science (ex. nursing, pharmacy, radiology)                       75\n",
       "Name: UndergradMajor, dtype: int64"
      ]
     },
     "execution_count": 18,
     "metadata": {},
     "output_type": "execute_result"
    }
   ],
   "source": [
    "survey_over_25['UndergradMajor'].value_counts()"
   ]
  },
  {
   "cell_type": "code",
   "execution_count": 19,
   "metadata": {},
   "outputs": [
    {
     "data": {
      "text/plain": [
       "Computer science, computer engineering, or software engineering          46609\n",
       "Another engineering discipline (ex. civil, electrical, mechanical)        6144\n",
       "Information systems, information technology, or system administration     5170\n",
       "Web development or web design                                             3358\n",
       "A natural science (ex. biology, chemistry, physics)                       3192\n",
       "Mathematics or statistics                                                 2918\n",
       "A business discipline (ex. accounting, finance, marketing)                1811\n",
       "A humanities discipline (ex. literature, history, philosophy)             1552\n",
       "A social science (ex. anthropology, psychology, political science)        1328\n",
       "Fine arts or performing arts (ex. graphic design, music, studio art)      1207\n",
       "I never declared a major                                                   939\n",
       "A health science (ex. nursing, pharmacy, radiology)                        318\n",
       "Name: UndergradMajor, dtype: int64"
      ]
     },
     "execution_count": 19,
     "metadata": {},
     "output_type": "execute_result"
    }
   ],
   "source": [
    "survey_filter_strip['UndergradMajor'].value_counts()"
   ]
  },
  {
   "cell_type": "code",
   "execution_count": 20,
   "metadata": {},
   "outputs": [
    {
     "data": {
      "text/plain": [
       "(1302, 10)"
      ]
     },
     "execution_count": 20,
     "metadata": {},
     "output_type": "execute_result"
    }
   ],
   "source": [
    "s_over_25_non_cs = survey_over_25[survey_over_25['UndergradMajor'] != 'Computer science, computer engineering, or software engineering']\n",
    "s_over_25_us_non_cs = survey_over_25[survey_over_25['Country'] == 'United States']\n",
    "s_over_25_us_non_cs.shape"
   ]
  },
  {
   "cell_type": "code",
   "execution_count": 21,
   "metadata": {},
   "outputs": [
    {
     "data": {
      "text/plain": [
       "<matplotlib.axes._subplots.AxesSubplot at 0x187b8cc2588>"
      ]
     },
     "execution_count": 21,
     "metadata": {},
     "output_type": "execute_result"
    },
    {
     "data": {
      "image/png": "[encoded data removed]",
      "text/plain": [
       "<Figure size 432x288 with 1 Axes>"
      ]
     },
     "metadata": {
      "needs_background": "light"
     },
     "output_type": "display_data"
    }
   ],
   "source": [
    "s_over_25_us_non_cs['CareerSat'].value_counts(normalize=True).plot(kind=\"bar\", rot=30, title = \"Over 25, Non-CS Degree Career Satisfaction\")"
   ]
  },
  {
   "cell_type": "code",
   "execution_count": 22,
   "metadata": {},
   "outputs": [
    {
     "data": {
      "text/plain": [
       "Very satisfied                        0.550476\n",
       "Slightly satisfied                    0.267619\n",
       "Slightly dissatisfied                 0.075238\n",
       "Neither satisfied nor dissatisfied    0.056190\n",
       "Very dissatisfied                     0.050476\n",
       "Name: CareerSat, dtype: float64"
      ]
     },
     "execution_count": 22,
     "metadata": {},
     "output_type": "execute_result"
    }
   ],
   "source": [
    "s_over_25_us_non_cs['CareerSat'].value_counts(normalize=True)"
   ]
  },
  {
   "cell_type": "markdown",
   "metadata": {},
   "source": [
    "Now when we go deeper into the results, we see a 55% 'very satisfied' rate for people that are:\n",
    "* From the United States\n",
    "* Written their first code after the age of 25\n",
    "* With an undergrad that was not in CS"
   ]
  },
  {
   "cell_type": "markdown",
   "metadata": {},
   "source": [
    "# Python Learners"
   ]
  },
  {
   "cell_type": "code",
   "execution_count": 23,
   "metadata": {},
   "outputs": [
    {
     "data": {
      "text/plain": [
       "False    0.583488\n",
       "True     0.416512\n",
       "Name: Python, dtype: float64"
      ]
     },
     "execution_count": 23,
     "metadata": {},
     "output_type": "execute_result"
    }
   ],
   "source": [
    "#Remember that we have survey_filter_strip and survey_over_25\n",
    "survey_filter_strip['Python'].value_counts(normalize=True)"
   ]
  },
  {
   "cell_type": "code",
   "execution_count": 24,
   "metadata": {},
   "outputs": [
    {
     "data": {
      "text/plain": [
       "False    0.681991\n",
       "True     0.318009\n",
       "Name: Python, dtype: float64"
      ]
     },
     "execution_count": 24,
     "metadata": {},
     "output_type": "execute_result"
    }
   ],
   "source": [
    "survey_over_25['Python'].value_counts(normalize=True)"
   ]
  },
  {
   "cell_type": "code",
   "execution_count": 33,
   "metadata": {},
   "outputs": [],
   "source": [
    "survey_over_25_us = survey_over_25[survey_over_25['Country'] == 'United States']\n",
    "survey_filter_strip_us = survey_filter_strip[survey_filter_strip['Country'] == 'United States']"
   ]
  },
  {
   "cell_type": "code",
   "execution_count": 34,
   "metadata": {},
   "outputs": [],
   "source": [
    "python_over_25 = survey_over_25_us[survey_over_25_us['Python'] == True]\n",
    "non_python_over_25 = survey_over_25_us[survey_over_25_us['Python'] == False]\n",
    "python_general = survey_filter_strip_us[survey_filter_strip_us['Python'] == True]\n",
    "non_python_general = survey_filter_strip_us[survey_filter_strip_us['Python'] == False]"
   ]
  },
  {
   "cell_type": "code",
   "execution_count": 38,
   "metadata": {},
   "outputs": [
    {
     "data": {
      "text/plain": [
       "<matplotlib.axes._subplots.AxesSubplot at 0x187b8e6f8d0>"
      ]
     },
     "execution_count": 38,
     "metadata": {},
     "output_type": "execute_result"
    },
    {
     "data": {
      "image/png": "[encoded data removed]",
      "text/plain": [
       "<Figure size 432x288 with 1 Axes>"
      ]
     },
     "metadata": {
      "needs_background": "light"
     },
     "output_type": "display_data"
    }
   ],
   "source": [
    "python_general['CareerSat'].value_counts(normalize=True).plot(kind=\"bar\", rot=30, title = \"Over 25 Career Satisfaction\")"
   ]
  },
  {
   "cell_type": "code",
   "execution_count": 37,
   "metadata": {},
   "outputs": [
    {
     "data": {
      "text/plain": [
       "<matplotlib.axes._subplots.AxesSubplot at 0x187b92b6be0>"
      ]
     },
     "execution_count": 37,
     "metadata": {},
     "output_type": "execute_result"
    },
    {
     "data": {
      "image/png": "[encoded data removed]",
      "text/plain": [
       "<Figure size 432x288 with 1 Axes>"
      ]
     },
     "metadata": {
      "needs_background": "light"
     },
     "output_type": "display_data"
    }
   ],
   "source": [
    "non_python_general['CareerSat'].value_counts(normalize=True).plot(kind=\"bar\", rot=30, title = \"Over 25 Career Satisfaction\")"
   ]
  },
  {
   "cell_type": "markdown",
   "metadata": {},
   "source": [
    "Throughout the different combinations, there wasn't any discernable difference between learning Python and not learning Python."
   ]
  },
  {
   "cell_type": "markdown",
   "metadata": {},
   "source": [
    "# Knowing Python Compensation"
   ]
  },
  {
   "cell_type": "code",
   "execution_count": 39,
   "metadata": {},
   "outputs": [],
   "source": [
    "survey_over_25_us = survey_over_25_us[survey_over_25_us['CompTotal'] < 3000000]\n",
    "survey_filter_strip_us = survey_filter_strip_us[survey_filter_strip_us['CompTotal'] < 3000000]"
   ]
  },
  {
   "cell_type": "code",
   "execution_count": 40,
   "metadata": {},
   "outputs": [],
   "source": [
    "python_over_25 = survey_over_25_us[survey_over_25_us['Python'] == True]\n",
    "non_python_over_25 = survey_over_25_us[survey_over_25_us['Python'] == False]\n",
    "python_general = survey_filter_strip_us[survey_filter_strip_us['Python'] == True]\n",
    "non_python_general = survey_filter_strip_us[survey_filter_strip_us['Python'] == False]"
   ]
  },
  {
   "cell_type": "code",
   "execution_count": 42,
   "metadata": {},
   "outputs": [
    {
     "name": "stdout",
     "output_type": "stream",
     "text": [
      "97423.80065359476\n",
      "86453.67850467289\n",
      "118447.82689785807\n",
      "110744.0958218664\n"
     ]
    }
   ],
   "source": [
    "print(python_over_25['CompTotal'].mean())\n",
    "print(non_python_over_25['CompTotal'].mean())\n",
    "print(python_general['CompTotal'].mean())\n",
    "print(non_python_general['CompTotal'].mean())"
   ]
  },
  {
   "cell_type": "markdown",
   "metadata": {},
   "source": [
    "In general, it's much more profitable with knowing Python as opposed to not knowing Python."
   ]
  },
  {
   "cell_type": "markdown",
   "metadata": {},
   "source": [
    "# Employment Status of People Learning Python after Age of 25"
   ]
  },
  {
   "cell_type": "code",
   "execution_count": 43,
   "metadata": {},
   "outputs": [
    {
     "data": {
      "text/plain": [
       "(306, 10)"
      ]
     },
     "execution_count": 43,
     "metadata": {},
     "output_type": "execute_result"
    }
   ],
   "source": [
    "python_over_25.shape"
   ]
  },
  {
   "cell_type": "code",
   "execution_count": 48,
   "metadata": {},
   "outputs": [
    {
     "data": {
      "text/plain": [
       "Employed full-time                                      0.927869\n",
       "Independent contractor, freelancer, or self-employed    0.062295\n",
       "Employed part-time                                      0.009836\n",
       "Name: Employment, dtype: float64"
      ]
     },
     "execution_count": 48,
     "metadata": {},
     "output_type": "execute_result"
    }
   ],
   "source": [
    "python_over_25['Employment'].value_counts(normalize=True)"
   ]
  },
  {
   "cell_type": "code",
   "execution_count": 49,
   "metadata": {
    "scrolled": true
   },
   "outputs": [
    {
     "data": {
      "text/plain": [
       "Employed full-time                                      0.739152\n",
       "Independent contractor, freelancer, or self-employed    0.097624\n",
       "Not employed, but looking for work                      0.064234\n",
       "Employed part-time                                      0.051261\n",
       "Not employed, and not looking for work                  0.043622\n",
       "Retired                                                 0.004106\n",
       "Name: Employment, dtype: float64"
      ]
     },
     "execution_count": 49,
     "metadata": {},
     "output_type": "execute_result"
    }
   ],
   "source": [
    "survey['Employment'].value_counts(normalize=True)"
   ]
  },
  {
   "cell_type": "markdown",
   "metadata": {},
   "source": [
    "Although not nearly close to statistical significance of the 306 individuals in the United States that learned Python after the age of 25 without a CS-related degree were employed. "
   ]
  },
  {
   "cell_type": "code",
   "execution_count": null,
   "metadata": {},
   "outputs": [],
   "source": []
  }
 ],
 "metadata": {
  "kernelspec": {
   "display_name": "Python 3",
   "language": "python",
   "name": "python3"
  },
  "language_info": {
   "codemirror_mode": {
    "name": "ipython",
    "version": 3
   },
   "file_extension": ".py",
   "mimetype": "text/x-python",
   "name": "python",
   "nbconvert_exporter": "python",
   "pygments_lexer": "ipython3",
   "version": "3.7.3"
  }
 },
 "nbformat": 4,
 "nbformat_minor": 2
}
